{
 "cells": [
  {
   "cell_type": "code",
   "execution_count": 1,
   "metadata": {},
   "outputs": [],
   "source": [
    "#Global Configurations\n",
    "global_rosbag_path = '/home/dji/dataset/drone_0_calib_jp/omni_calibration_2024-02-04-22-05-042_sampled.bag'\n",
    "global_output_path = '/home/dji/dataset/drone_0_calib_jp/test/'\n",
    "\n",
    "global_photometric_calibration_path = None\n",
    "\n",
    "global_image_topic = '/oak_ffc_4p/assemble_image/compressed'\n",
    "global_imu_topic = '/mavros/imu/data_raw'\n",
    "\n",
    "global_virtual_fov = 190\n",
    "global_virtual_width = 320\n",
    "global_virtual_height = 240"
   ]
  },
  {
   "cell_type": "code",
   "execution_count": null,
   "metadata": {},
   "outputs": [],
   "source": [
    "# Split bag into 9 parts for calibration maybe slow if bag is large\n",
    "import utils.Utils as Utils\n",
    "import utils.BagExtractor as BagExtractor\n",
    "\n",
    "ret = Utils.check_rosbag(global_imu_topic,global_image_topic,global_rosbag_path)\n",
    "if ret == False:\n",
    "  exit(1)\n",
    "bags = BagExtractor.extract_calibration_bag(global_rosbag_path,global_output_path, global_image_topic)\n",
    "print(\"[Bag extractor] The following bags are created:\\n\")\n",
    "for bag_file in bags:\n",
    "  print(bag_file)"
   ]
  },
  {
   "cell_type": "code",
   "execution_count": null,
   "metadata": {},
   "outputs": [],
   "source": [
    "# Calibrate each fisheye camera \n",
    "import utils.Calibration as Calibration\n",
    "\n",
    "Calibration.calibrate_monos(global_output_path)\n",
    "Calibration.check_calibration(global_output_path,\"mono\")"
   ]
  },
  {
   "cell_type": "code",
   "execution_count": null,
   "metadata": {},
   "outputs": [],
   "source": [
    "import utils.Calibration as Calibration\n",
    "\n",
    "Calibration.calibrate_stereos(global_output_path)\n",
    "Calibration.check_calibration(global_output_path,\"stereo\")"
   ]
  },
  {
   "cell_type": "code",
   "execution_count": null,
   "metadata": {},
   "outputs": [],
   "source": [
    "import utils.Calibration as Calibration\n",
    "Calibration.calibrate_cam_imu(global_output_path)\n",
    "Calibration.check_imu_calibration(global_output_path)"
   ]
  },
  {
   "cell_type": "code",
   "execution_count": null,
   "metadata": {},
   "outputs": [],
   "source": [
    "import utils.Utils as Utils\n",
    "Utils.generate_d2vins_cinfiguration(global_output_path)"
   ]
  },
  {
   "cell_type": "code",
   "execution_count": 2,
   "metadata": {},
   "outputs": [
    {
     "name": "stdout",
     "output_type": "stream",
     "text": [
      "Loading config from /home/dji/dataset/drone_0_calib_jp/test/fisheye_cams.yaml\n",
      "cam0\n",
      "cam1\n",
      "cam2\n",
      "cam3\n",
      "copy aprilgrid.yaml to output folder\n"
     ]
    },
    {
     "ename": "NameError",
     "evalue": "name 'args' is not defined",
     "output_type": "error",
     "traceback": [
      "\u001b[0;31m---------------------------------------------------------------------------\u001b[0m",
      "\u001b[0;31mNameError\u001b[0m                                 Traceback (most recent call last)",
      "Cell \u001b[0;32mIn[2], line 5\u001b[0m\n\u001b[1;32m      3\u001b[0m output_path \u001b[38;5;241m=\u001b[39m global_output_path \u001b[38;5;241m+\u001b[39m \u001b[38;5;124mf\u001b[39m\u001b[38;5;124m\"\u001b[39m\u001b[38;5;124m/virtual_stereo_calibration_\u001b[39m\u001b[38;5;132;01m{\u001b[39;00mglobal_virtual_fov\u001b[38;5;132;01m}\u001b[39;00m\u001b[38;5;124m\"\u001b[39m\n\u001b[1;32m      4\u001b[0m fisheye_config \u001b[38;5;241m=\u001b[39m global_output_path\u001b[38;5;241m+\u001b[39m \u001b[38;5;124m\"\u001b[39m\u001b[38;5;124mfisheye_cams.yaml\u001b[39m\u001b[38;5;124m\"\u001b[39m\n\u001b[0;32m----> 5\u001b[0m \u001b[43mVirtualStereoCalibration\u001b[49m\u001b[38;5;241;43m.\u001b[39;49m\u001b[43mcalibrate_virtual_stereo\u001b[49m\u001b[43m(\u001b[49m\u001b[43minput_bag\u001b[49m\u001b[43m,\u001b[49m\u001b[43m  \u001b[49m\u001b[43mglobal_virtual_fov\u001b[49m\u001b[43m,\u001b[49m\u001b[43m \u001b[49m\n\u001b[1;32m      6\u001b[0m \u001b[43m                                                  \u001b[49m\u001b[43mglobal_virtual_width\u001b[49m\u001b[43m,\u001b[49m\u001b[43m \u001b[49m\u001b[43mglobal_virtual_height\u001b[49m\u001b[43m,\u001b[49m\n\u001b[1;32m      7\u001b[0m \u001b[43m                                                  \u001b[49m\u001b[43mfisheye_config\u001b[49m\u001b[43m,\u001b[49m\u001b[43m \u001b[49m\u001b[43moutput_path\u001b[49m\u001b[43m,\u001b[49m\u001b[43m \u001b[49m\u001b[43mglobal_photometric_calibration_path\u001b[49m\u001b[43m,\u001b[49m\u001b[43mverbose\u001b[49m\u001b[38;5;241;43m=\u001b[39;49m\u001b[38;5;28;43;01mFalse\u001b[39;49;00m\u001b[43m)\u001b[49m\n",
      "File \u001b[0;32m~/workspace/quarterKalibr/utils/VirtualStereoCalibration.py:150\u001b[0m, in \u001b[0;36mcalibrate_virtual_stereo\u001b[0;34m(input_bag, fov, width, height, fisheye_config, output_path, photometric_calibration, verbose)\u001b[0m\n\u001b[1;32m    148\u001b[0m     shutil\u001b[38;5;241m.\u001b[39mcopyfile(aprilgrid_path, os\u001b[38;5;241m.\u001b[39mpath\u001b[38;5;241m.\u001b[39mjoin(output_path, \u001b[38;5;124m\"\u001b[39m\u001b[38;5;124maprilgrid.yaml\u001b[39m\u001b[38;5;124m\"\u001b[39m))\n\u001b[1;32m    149\u001b[0m     \u001b[38;5;28mprint\u001b[39m(\u001b[38;5;124m\"\u001b[39m\u001b[38;5;124mcopy aprilgrid.yaml to output folder\u001b[39m\u001b[38;5;124m\"\u001b[39m)\n\u001b[0;32m--> 150\u001b[0m     output_bag_name \u001b[38;5;241m=\u001b[39m os\u001b[38;5;241m.\u001b[39mpath\u001b[38;5;241m.\u001b[39mjoin(output_path, \u001b[38;5;124m\"\u001b[39m\u001b[38;5;124mstereo_calibration_step_\u001b[39m\u001b[38;5;132;01m%s\u001b[39;00m\u001b[38;5;124m_width_\u001b[39m\u001b[38;5;132;01m%s\u001b[39;00m\u001b[38;5;124m_height_\u001b[39m\u001b[38;5;132;01m%s\u001b[39;00m\u001b[38;5;124m.bag\u001b[39m\u001b[38;5;124m\"\u001b[39m \u001b[38;5;241m%\u001b[39m (\u001b[43margs\u001b[49m\u001b[38;5;241m.\u001b[39mstep, args\u001b[38;5;241m.\u001b[39mwidth, args\u001b[38;5;241m.\u001b[39mheight))\n\u001b[1;32m    151\u001b[0m \u001b[38;5;28;01melse\u001b[39;00m:\n\u001b[1;32m    152\u001b[0m     output_bag \u001b[38;5;241m=\u001b[39m \u001b[38;5;28;01mNone\u001b[39;00m\n",
      "\u001b[0;31mNameError\u001b[0m: name 'args' is not defined"
     ]
    }
   ],
   "source": [
    "import utils.VirtualStereoCalibration as VirtualStereoCalibration\n",
    "input_bag = global_output_path + \"/stereo_depth_calibration.bag\"\n",
    "output_path = global_output_path + f\"/virtual_stereo_calibration_{global_virtual_fov}\"\n",
    "fisheye_config = global_output_path+ \"fisheye_cams.yaml\"\n",
    "step = 1 \n",
    "VirtualStereoCalibration.calibrate_virtual_stereo(input_bag,  global_virtual_fov, \n",
    "                                                  global_virtual_width, global_virtual_height,\n",
    "                                                  fisheye_config, output_path, step, global_photometric_calibration_path,verbose=False)"
   ]
  }
 ],
 "metadata": {
  "kernelspec": {
   "display_name": "Python 3",
   "language": "python",
   "name": "python3"
  },
  "language_info": {
   "codemirror_mode": {
    "name": "ipython",
    "version": 3
   },
   "file_extension": ".py",
   "mimetype": "text/x-python",
   "name": "python",
   "nbconvert_exporter": "python",
   "pygments_lexer": "ipython3",
   "version": "3.8.10"
  }
 },
 "nbformat": 4,
 "nbformat_minor": 2
}
